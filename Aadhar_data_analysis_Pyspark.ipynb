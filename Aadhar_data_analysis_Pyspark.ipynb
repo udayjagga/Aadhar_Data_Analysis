{
  "nbformat": 4,
  "nbformat_minor": 0,
  "metadata": {
    "colab": {
      "name": "J Uday Bhaskar_Pyspark_W25.ipynb",
      "provenance": [],
      "collapsed_sections": []
    },
    "kernelspec": {
      "name": "python3",
      "display_name": "Python 3"
    },
    "language_info": {
      "name": "python"
    }
  },
  "cells": [
    {
      "cell_type": "markdown",
      "source": [
        "# PySpark\n"
      ],
      "metadata": {
        "id": "sIdqgaYg2P3m"
      }
    },
    {
      "cell_type": "markdown",
      "source": [
        "## Installing the required Pyspark library"
      ],
      "metadata": {
        "id": "LsNFX4Zo2WmT"
      }
    },
    {
      "cell_type": "code",
      "execution_count": null,
      "metadata": {
        "colab": {
          "base_uri": "https://localhost:8080/"
        },
        "id": "OM0-WwgnbW3o",
        "outputId": "fda95804-562b-48d8-e951-c0c0e7a44efa"
      },
      "outputs": [
        {
          "output_type": "stream",
          "name": "stdout",
          "text": [
            "Collecting pyspark\n",
            "  Downloading pyspark-3.2.1.tar.gz (281.4 MB)\n",
            "\u001b[K     |████████████████████████████████| 281.4 MB 35 kB/s \n",
            "\u001b[?25hCollecting py4j==0.10.9.3\n",
            "  Downloading py4j-0.10.9.3-py2.py3-none-any.whl (198 kB)\n",
            "\u001b[K     |████████████████████████████████| 198 kB 46.0 MB/s \n",
            "\u001b[?25hBuilding wheels for collected packages: pyspark\n",
            "  Building wheel for pyspark (setup.py) ... \u001b[?25l\u001b[?25hdone\n",
            "  Created wheel for pyspark: filename=pyspark-3.2.1-py2.py3-none-any.whl size=281853642 sha256=ba37a4a93d8a71518b4a7562329f752015a8bab594259b3bff7c35c51917ccb8\n",
            "  Stored in directory: /root/.cache/pip/wheels/9f/f5/07/7cd8017084dce4e93e84e92efd1e1d5334db05f2e83bcef74f\n",
            "Successfully built pyspark\n",
            "Installing collected packages: py4j, pyspark\n",
            "Successfully installed py4j-0.10.9.3 pyspark-3.2.1\n"
          ]
        }
      ],
      "source": [
        "!pip install pyspark"
      ]
    },
    {
      "cell_type": "code",
      "source": [
        "#Initializing PySpark\n",
        "from pyspark import SparkContext, SparkConf\n",
        "from pyspark.sql import SparkSession\n",
        "from pyspark.sql import SQLContext\n",
        "# #Spark Config\n",
        "conf = SparkConf().setAppName(\"sample_app\")\n",
        "sc = SparkContext(conf=conf)\n",
        "spark = SparkSession.builder.appName('Aadhaar data Analysis').getOrCreate()\n",
        "sqlContext = SQLContext(sc)"
      ],
      "metadata": {
        "colab": {
          "base_uri": "https://localhost:8080/"
        },
        "id": "fiKv9zmrbc4o",
        "outputId": "bea626c9-91ec-4f40-9b58-c37ba117be0b"
      },
      "execution_count": null,
      "outputs": [
        {
          "output_type": "stream",
          "name": "stderr",
          "text": [
            "/usr/local/lib/python3.7/dist-packages/pyspark/sql/context.py:79: FutureWarning: Deprecated in 3.0.0. Use SparkSession.builder.getOrCreate() instead.\n",
            "  FutureWarning\n"
          ]
        }
      ]
    },
    {
      "cell_type": "markdown",
      "source": [
        "### Reading the CSV file into Data Frame"
      ],
      "metadata": {
        "id": "0mZqAXS62lLZ"
      }
    },
    {
      "cell_type": "code",
      "source": [
        "aadhar_df = spark.read.format(\"csv\").option(\"header\", \"true\").option(\"inferSchema\",\"true\").load(\"/content/UIDAI-ENR-DETAIL-20170308.csv\")\n",
        "\n",
        "# printing first 5 rows\n",
        "aadhar_df.show(5) \n"
      ],
      "metadata": {
        "colab": {
          "base_uri": "https://localhost:8080/"
        },
        "id": "cwMWH70Mbt8m",
        "outputId": "ecdcd119-0876-418d-931d-41c1a463b10f"
      },
      "execution_count": null,
      "outputs": [
        {
          "output_type": "stream",
          "name": "stdout",
          "text": [
            "+--------------+--------------------+-------------+---------+------------+--------+------+---+-----------------+------------------+-------------------------+---------------------------------+\n",
            "|     Registrar|    Enrolment Agency|        State| District|Sub District|Pin Code|Gender|Age|Aadhaar generated|Enrolment Rejected|Residents providing email|Residents providing mobile number|\n",
            "+--------------+--------------------+-------------+---------+------------+--------+------+---+-----------------+------------------+-------------------------+---------------------------------+\n",
            "|Allahabad Bank|A-Onerealtors Pvt...|Uttar Pradesh|Allahabad|        Meja|  212303|     F|  7|                1|                 0|                        0|                                1|\n",
            "|Allahabad Bank|Asha Security Gua...|Uttar Pradesh|Sonbhadra| Robertsganj|  231213|     M|  8|                1|                 0|                        0|                                0|\n",
            "|Allahabad Bank|   SGS INDIA PVT LTD|Uttar Pradesh|Sultanpur|   Sultanpur|  227812|     F| 13|                1|                 0|                        0|                                1|\n",
            "|Allahabad Bank|Sri Ramraja Sarka...|Uttar Pradesh|   Shamli|      Shamli|  247775|     M|  6|                1|                 0|                        0|                                1|\n",
            "|Allahabad Bank|  Transmoovers India|Uttar Pradesh|Gorakhpur|    Sahjanwa|  273001|     M|  8|                1|                 0|                        0|                                1|\n",
            "+--------------+--------------------+-------------+---------+------------+--------+------+---+-----------------+------------------+-------------------------+---------------------------------+\n",
            "only showing top 5 rows\n",
            "\n"
          ]
        }
      ]
    },
    {
      "cell_type": "markdown",
      "source": [
        "### 1. Create a dataframe with Total Aadhaar's generated for each **state**"
      ],
      "metadata": {
        "id": "xpvQeluydcTT"
      }
    },
    {
      "cell_type": "code",
      "source": [
        "# importing functions from pyspark sql\n",
        "import pyspark.sql.functions as f\n",
        "\n",
        "# Grouping by state\n",
        "count_by_state = aadhar_df.groupby(\"State\").sum(\"Aadhaar generated\").withColumnRenamed(\"sum(Aadhaar generated)\",\"Total Aadhaar generated\")\n",
        "count_by_state.orderBy(f.desc(\"sum(Aadhaar generated)\")).show()"
      ],
      "metadata": {
        "colab": {
          "base_uri": "https://localhost:8080/"
        },
        "id": "pgSx2zxVdTLM",
        "outputId": "2e65d91d-b5a5-4d75-e2a7-d2ced5630270"
      },
      "execution_count": null,
      "outputs": [
        {
          "output_type": "stream",
          "name": "stdout",
          "text": [
            "+--------------+-----------------------+\n",
            "|         State|Total Aadhaar generated|\n",
            "+--------------+-----------------------+\n",
            "|         Bihar|                 162607|\n",
            "|   West Bengal|                 119901|\n",
            "| Uttar Pradesh|                 103767|\n",
            "|Madhya Pradesh|                  53276|\n",
            "|     Rajasthan|                  39570|\n",
            "|       Gujarat|                  34844|\n",
            "|    Tamil Nadu|                  32485|\n",
            "|   Maharashtra|                  26085|\n",
            "|     Karnataka|                  19764|\n",
            "|        Odisha|                  18182|\n",
            "|        Kerala|                  15143|\n",
            "|   Uttarakhand|                  13227|\n",
            "|     Jharkhand|                   9868|\n",
            "|         Delhi|                   8426|\n",
            "|       Haryana|                   6804|\n",
            "|  Chhattisgarh|                   6604|\n",
            "|        Punjab|                   6506|\n",
            "|       Mizoram|                   6279|\n",
            "|Andhra Pradesh|                   5798|\n",
            "|     Telangana|                   5018|\n",
            "+--------------+-----------------------+\n",
            "only showing top 20 rows\n",
            "\n"
          ]
        }
      ]
    },
    {
      "cell_type": "markdown",
      "source": [
        "**Above one is the Total Aadhaar generated in each state**\n"
      ],
      "metadata": {
        "id": "rIbc7n2r3peJ"
      }
    },
    {
      "cell_type": "markdown",
      "source": [
        "### 2. Create a dataframe with Total Aadhaar's generated by each enrollment agency"
      ],
      "metadata": {
        "id": "UfPJAWWDrZYb"
      }
    },
    {
      "cell_type": "code",
      "source": [
        "# Grouping by Enrolment Agency\n",
        "count_by_Enrolment_Agency = aadhar_df.groupby(\"Enrolment Agency\").sum(\"Aadhaar generated\").withColumnRenamed(\"sum(Aadhaar generated)\",\"Total Aadhaar generated \")\n",
        "count_by_Enrolment_Agency.orderBy(f.desc(\"sum(Aadhaar generated)\")).show(10)"
      ],
      "metadata": {
        "colab": {
          "base_uri": "https://localhost:8080/"
        },
        "id": "3LY8p_Ggd5wo",
        "outputId": "b4a5daa3-9392-4e0d-90cf-53d128e45d4a"
      },
      "execution_count": null,
      "outputs": [
        {
          "output_type": "stream",
          "name": "stdout",
          "text": [
            "+--------------------+------------------------+\n",
            "|    Enrolment Agency|Total Aadhaar generated |\n",
            "+--------------------+------------------------+\n",
            "|             CSC SPV|                  173192|\n",
            "|           Wipro Ltd|                   39619|\n",
            "|SREI INFRASTRUCTU...|                   26497|\n",
            "|SRM Education And...|                   26253|\n",
            "|        Computer LAB|                   21823|\n",
            "|Rajcomp Info Serv...|                   20163|\n",
            "|    MPOnline Limited|                   17020|\n",
            "|AKSH OPTIFIBRE LI...|                   16624|\n",
            "|Nielsen  India  P...|                   15993|\n",
            "|TAMILNADU ARASU C...|                   15981|\n",
            "+--------------------+------------------------+\n",
            "only showing top 10 rows\n",
            "\n"
          ]
        }
      ]
    },
    {
      "cell_type": "markdown",
      "source": [
        "***CSV SPV*** Enrolment Agency has the highest No of Aadhaar generated"
      ],
      "metadata": {
        "id": "_SnnVeTe4Sdo"
      }
    },
    {
      "cell_type": "markdown",
      "source": [
        "### 3. Create dataframe with top 10 districts with maximum Aadhaar's generated for both Male and Female?"
      ],
      "metadata": {
        "id": "c17RMG6ssM4B"
      }
    },
    {
      "cell_type": "code",
      "source": [
        "# Grouping by Enrolment District and Gender\n",
        "count_district_gender = aadhar_df.groupby([\"District\",\"Gender\"]).sum(\"Aadhaar generated\").withColumnRenamed(\"sum(Aadhaar generated)\",\"Total Aadhaar generated \")\n",
        "count_district_gender.orderBy(f.desc(\"sum(Aadhaar generated)\")).show(10)"
      ],
      "metadata": {
        "colab": {
          "base_uri": "https://localhost:8080/"
        },
        "id": "KNNE4_3AsMik",
        "outputId": "cb87bb39-f606-4df8-b549-7c2e19e89cb6"
      },
      "execution_count": null,
      "outputs": [
        {
          "output_type": "stream",
          "name": "stdout",
          "text": [
            "+-----------------+------+------------------------+\n",
            "|         District|Gender|Total Aadhaar generated |\n",
            "+-----------------+------+------------------------+\n",
            "|        Bhagalpur|     M|                   11007|\n",
            "|       Barddhaman|     F|                    9744|\n",
            "|South 24 Parganas|     F|                    8382|\n",
            "|South 24 Parganas|     M|                    7825|\n",
            "|          Katihar|     M|                    6968|\n",
            "|      Murshidabad|     M|                    6808|\n",
            "|       Samastipur|     M|                    6195|\n",
            "|            Patna|     M|                    6191|\n",
            "|North 24 Parganas|     F|                    6108|\n",
            "|       Barddhaman|     M|                    6077|\n",
            "+-----------------+------+------------------------+\n",
            "only showing top 10 rows\n",
            "\n"
          ]
        }
      ]
    },
    {
      "cell_type": "markdown",
      "source": [
        "Above 10 District's have the maximum Aadhaar's generated for both Male and Female"
      ],
      "metadata": {
        "id": "ZjCg4M9j4tEm"
      }
    },
    {
      "cell_type": "markdown",
      "source": [
        "### 4. Create a dataframe with Total Aadhaar's generated for top 10 least state"
      ],
      "metadata": {
        "id": "6jDNP6bLxW2J"
      }
    },
    {
      "cell_type": "code",
      "source": [
        "# Grouping by State and printing least state with Aadhaar generated\n",
        "count_leastState = aadhar_df.groupby(\"State\").sum(\"Aadhaar generated\").withColumnRenamed(\"sum(Aadhaar generated)\",\"Total Aadhaar generated \")\n",
        "count_leastState.orderBy(f.asc(\"sum(Aadhaar generated)\")).show(10)"
      ],
      "metadata": {
        "colab": {
          "base_uri": "https://localhost:8080/"
        },
        "id": "htFU3V5SrwZC",
        "outputId": "b947435d-6694-4603-f6f0-cfacf518f9c3"
      },
      "execution_count": null,
      "outputs": [
        {
          "output_type": "stream",
          "name": "stdout",
          "text": [
            "+--------------------+------------------------+\n",
            "|               State|Total Aadhaar generated |\n",
            "+--------------------+------------------------+\n",
            "|         Lakshadweep|                       4|\n",
            "|Andaman and Nicob...|                       5|\n",
            "|              Others|                      12|\n",
            "|              Sikkim|                      50|\n",
            "|          Puducherry|                      83|\n",
            "|       Daman and Diu|                     105|\n",
            "|Dadra and Nagar H...|                     140|\n",
            "|          Chandigarh|                     259|\n",
            "|           Meghalaya|                     277|\n",
            "|            Nagaland|                     545|\n",
            "+--------------------+------------------------+\n",
            "only showing top 10 rows\n",
            "\n"
          ]
        }
      ]
    },
    {
      "cell_type": "markdown",
      "source": [
        "These are Top 10 least State's with Total Aadhaar's generated\n"
      ],
      "metadata": {
        "id": "jZYO4VjW5E9J"
      }
    },
    {
      "cell_type": "markdown",
      "source": [
        "### 5. For which age most adhar card has declined ?"
      ],
      "metadata": {
        "id": "DkOTplvcya83"
      }
    },
    {
      "cell_type": "code",
      "source": [
        "# Grouping by Age\n",
        "count_by_age = aadhar_df.groupby(\"Age\").sum(\"Enrolment Rejected\").orderBy(f.desc(\"sum(Enrolment Rejected)\"))\n",
        "count_by_age.withColumnRenamed(\"sum(Enrolment Rejected)\",\"Total Enrolment Rejected\").show(15)"
      ],
      "metadata": {
        "colab": {
          "base_uri": "https://localhost:8080/"
        },
        "id": "qAXLZ_V5xnUH",
        "outputId": "5cf7a260-94e3-4ee9-901e-be4478e357a4"
      },
      "execution_count": null,
      "outputs": [
        {
          "output_type": "stream",
          "name": "stdout",
          "text": [
            "+---+------------------------+\n",
            "|Age|Total Enrolment Rejected|\n",
            "+---+------------------------+\n",
            "|  4|                    5673|\n",
            "|  3|                    3842|\n",
            "|  2|                    3372|\n",
            "|  1|                    3333|\n",
            "|  0|                    3219|\n",
            "|  5|                    2208|\n",
            "|  6|                    1931|\n",
            "|  7|                    1572|\n",
            "|  8|                    1357|\n",
            "|  9|                     980|\n",
            "| 10|                     920|\n",
            "| 11|                     604|\n",
            "| 12|                     560|\n",
            "| 13|                     406|\n",
            "| 18|                     384|\n",
            "+---+------------------------+\n",
            "only showing top 15 rows\n",
            "\n"
          ]
        }
      ]
    },
    {
      "cell_type": "markdown",
      "source": [
        "Who has the Age 4, there adhar card has mostly declined"
      ],
      "metadata": {
        "id": "6UJ-Mlhi5YNA"
      }
    },
    {
      "cell_type": "code",
      "source": [
        ""
      ],
      "metadata": {
        "id": "SP4jrnR0y0_4"
      },
      "execution_count": null,
      "outputs": []
    }
  ]
}